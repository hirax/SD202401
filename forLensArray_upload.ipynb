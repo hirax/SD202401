{
 "cells": [
  {
   "cell_type": "code",
   "execution_count": 2,
   "id": "06d689ec",
   "metadata": {
    "scrolled": true
   },
   "outputs": [],
   "source": [
    "import math\n",
    "from solid import * # pip install solidpython\n",
    "\n",
    "def make_sphere_at_pos(size_d, xyz): # 直径, 場所[x,y,z]\n",
    "    return translate(xyz)(sphere(d=size_d, segments=4)) # 4は形状の滑らかさ\n",
    "\n",
    "def make_cube_at_pos(size_xyz, xyz):\n",
    "    return translate(xyz)(cube(size_xyz, center=True))\n",
    "\n",
    "x_num = 10#30 # 60 for 1.8mm, 40 for 3mm\n",
    "y_num = 10#30 # 60\n",
    "r = 1.5 # 0.9 # 1.5 # 球の半径（mm）\n",
    "d = 2 * r # 球の直径でもあり、広い方向のspaceでもある\n",
    "narrow_space=math.sqrt(3)*r # 狭い方向のspace\n",
    "base_thickness = 4  # 厚み(mm)\n",
    "base_height = 5     # 高さ(mm)\n",
    "base_over_height=10 # 余分な高さ（mm）\n",
    "edge_length = 3     # 周囲幅(mm)\n",
    "base_x_size = (x_num) * narrow_space+2*edge_length\n",
    "base_y_size = (x_num) * d + 2*edge_length\n",
    "base_x_outer_size = base_x_size + 2*base_thickness\n",
    "base_y_outer_size = base_y_size + 2*base_thickness\n",
    "silicone_thickness = 4 # mm\n",
    "\n",
    "# 直方体を作る\n",
    "mold_base = make_cube_at_pos([base_x_outer_size, \n",
    "                              base_y_outer_size,\n",
    "                              base_height+base_thickness+base_over_height],\n",
    "                             [base_x_size/2, \n",
    "                              base_y_size/2, \n",
    "                              (base_height+base_thickness+base_over_height)/2])\n",
    "# 直方体を削る\n",
    "mold_base = mold_base - make_cube_at_pos(\n",
    "                             [base_x_size, \n",
    "                              base_y_size,\n",
    "                              base_over_height+base_thickness],\n",
    "                             [base_x_size/2,\n",
    "                              base_y_size/2, \n",
    "                              base_height+base_thickness+(base_over_height+base_thickness)/2])\n",
    "# 周囲の「お堀」部分\n",
    "mold_base = mold_base - make_cube_at_pos(\n",
    "                             [base_x_size, \n",
    "                              silicone_thickness,\n",
    "                              base_height+base_over_height+base_thickness],\n",
    "                             [base_x_size/2,\n",
    "                              silicone_thickness/2, \n",
    "                              base_thickness+(base_height+base_over_height+base_thickness)/2])\n",
    "mold_base = mold_base - make_cube_at_pos(\n",
    "                             [silicone_thickness, \n",
    "                              base_y_size,\n",
    "                              base_height+base_over_height+base_thickness],\n",
    "                             [silicone_thickness/2,\n",
    "                              base_y_size/2, \n",
    "                              base_thickness+(base_height+base_over_height+base_thickness)/2])\n",
    "mold_base = mold_base - make_cube_at_pos(\n",
    "                             [base_x_size, \n",
    "                              silicone_thickness,\n",
    "                              base_height+base_over_height+base_thickness],\n",
    "                             [base_x_size/2,\n",
    "                              base_y_size-silicone_thickness/2, \n",
    "                              base_thickness+(base_height+base_over_height+base_thickness)/2])\n",
    "mold_base = mold_base - make_cube_at_pos(\n",
    "                             [silicone_thickness, \n",
    "                              base_y_size,\n",
    "                              base_height+base_over_height+base_thickness],\n",
    "                             [base_x_size-silicone_thickness/2,\n",
    "                              base_y_size/2, \n",
    "                              base_thickness+(base_height+base_over_height+base_thickness)/2])\n",
    "\n",
    "# 球形部分を除去（3Dプリンタだけで型を作るなら足すところだが、ビーズ球を使うため、抜く）\n",
    "spheres = []\n",
    "for y in range(y_num):\n",
    "    Y=y*d+r+edge_length\n",
    "    Z=base_height+base_thickness \n",
    "    for x in range(x_num):\n",
    "        X=x*narrow_space+r+edge_length\n",
    "        if x%2 == 0:\n",
    "            spheres.append( make_sphere_at_pos(d,[X,Y,Z])   )\n",
    "        else:\n",
    "            spheres.append( make_sphere_at_pos(d,[X,Y+r,Z]) )\n",
    "# 最終的に生成された形状\n",
    "mold_base = difference()(mold_base,spheres)\n",
    "# .scad ファイルに出力する\n",
    "scad_render_to_file(mold_base, \"lensMold.scad\")"
   ]
  },
  {
   "cell_type": "code",
   "execution_count": 3,
   "id": "4c9e0580",
   "metadata": {},
   "outputs": [
    {
     "data": {
      "text/plain": [
       "'/Users/jun/source/SD/SD202312_hologram/lensMold.scad'"
      ]
     },
     "execution_count": 3,
     "metadata": {},
     "output_type": "execute_result"
    }
   ],
   "source": [
    "import subprocess\n",
    "\n",
    "# OpenSCADを使って、.scad ファイルをSTLファイルに変換する\n",
    "openscad = '/Applications/OpenSCAD.app/Contents/MacOS/OpenSCAD'\n",
    "subprocess.run([openscad, 'lensMold.scad','-o lensMold.stl','-q'])"
   ]
  },
  {
   "cell_type": "code",
   "execution_count": null,
   "id": "7cdadf81",
   "metadata": {},
   "outputs": [],
   "source": []
  }
 ],
 "metadata": {
  "kernelspec": {
   "display_name": "Python 3 (ipykernel)",
   "language": "python",
   "name": "python3"
  },
  "language_info": {
   "codemirror_mode": {
    "name": "ipython",
    "version": 3
   },
   "file_extension": ".py",
   "mimetype": "text/x-python",
   "name": "python",
   "nbconvert_exporter": "python",
   "pygments_lexer": "ipython3",
   "version": "3.7.12"
  },
  "toc": {
   "base_numbering": 1,
   "nav_menu": {},
   "number_sections": false,
   "sideBar": true,
   "skip_h1_title": false,
   "title_cell": "Table of Contents",
   "title_sidebar": "Contents",
   "toc_cell": false,
   "toc_position": {
    "height": "calc(100% - 180px)",
    "left": "10px",
    "top": "150px",
    "width": "232.796875px"
   },
   "toc_section_display": true,
   "toc_window_display": true
  }
 },
 "nbformat": 4,
 "nbformat_minor": 5
}
