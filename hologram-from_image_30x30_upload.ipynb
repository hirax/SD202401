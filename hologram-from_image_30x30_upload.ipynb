{
 "cells": [
  {
   "cell_type": "markdown",
   "id": "c57f6e1c",
   "metadata": {},
   "source": [
    "# ホログラム画像作成"
   ]
  },
  {
   "cell_type": "code",
   "execution_count": null,
   "id": "dce4f03a",
   "metadata": {},
   "outputs": [],
   "source": [
    "import math\n",
    "\n",
    "x_num = 30 # \n",
    "y_num = 30 # \n",
    "r = 1.5    # 球の半径（mm）\n",
    "d = 2 * r  # 球の直径でもあり、  広い方向のspace ( in mm)\n",
    "narrow_space = math.sqrt(3)*r # 狭い方向のspace ( in mm)\n",
    "\n",
    "# ピクセル数を計算する（プリント時には、現物合わせで変倍する）\n",
    "pixels_x = int(narrow_space * x_num / 25.4 * 600)  # in pixel\n",
    "pixels_y = int(d * y_num / 25.4 * 600)             # in pixel\n",
    "# セルあたりピクセル数を計算する\n",
    "pixels_of_cell_in_y = int(pixels_y / y_num)\n",
    "pixels_of_cell_in_x = int(pixels_x / x_num)\n",
    "\n",
    "import numpy as np\n",
    "import cv2\n",
    "\n",
    "# 変角画像を読み込む\n",
    "files = [\"001.png\",\"002.png\",\"003.png\",\"004.png\",\"005.png\",\n",
    "         \"006.png\",\"007.png\",\"008.png\",\"009.png\"]\n",
    "images = [cv2.resize(cv2.imread(\"001.png\"), dsize=(x_num, y_num)) for f in files]\n",
    "\n",
    "import matplotlib.pyplot as plt\n",
    "\n",
    "# 変角画像を表示\n",
    "for image in images:\n",
    "    plt.imshow(cv2.cvtColor(image, cv2.COLOR_BGR2RGB))\n",
    "    plt.show()\n",
    "\n",
    "# テクスチャ画像バッファを生成する\n",
    "background_image2 = np.zeros([pixels_y, pixels_x, 3], dtype = 'uint8')\n",
    "\n",
    "# テクスチャ画像バッファに、レンズアレイ毎に「変角画像」を貼り付ける\n",
    "for y in range(y_num):\n",
    "    for x in range(x_num):\n",
    "        # 張り込む「変角」画像を生成する\n",
    "        patch = np.zeros( [ round(pixels_of_cell_in_y),\n",
    "                            round(pixels_of_cell_in_x), 3], \n",
    "                           dtype = 'uint8')\n",
    "        for y1 in range(3):\n",
    "            for x1 in range(3):\n",
    "                patch[ \n",
    "            round(y1*pixels_of_cell_in_y/3):round((y1+1)*pixels_of_cell_in_y/3),\n",
    "            round(x1*pixels_of_cell_in_x/3):round((x1+1)*pixels_of_cell_in_x/3)] = \\\n",
    "                images[3*y1+x1][y,x]\n",
    "        # 「変角」画像をテクスチャ画像バッファに貼り付ける\n",
    "        sy = round(y*pixels_of_cell_in_y)\n",
    "        if y%2 is 0: # 14列の行\n",
    "            if x < (x_num-1):\n",
    "                sx = round(x*pixels_of_cell_in_x+pixels_of_cell_in_x/2)\n",
    "                background_image2[sy:round(sy+pixels_of_cell_in_y), sx: \\\n",
    "                                  round(sx+pixels_of_cell_in_x)]= patch\n",
    "        else:        # 15列の行\n",
    "            sx = round(x*pixels_of_cell_in_x)\n",
    "            background_image2[sy:round(sy+pixels_of_cell_in_y), \\ \n",
    "                              sx:round(sx+pixels_of_cell_in_x)] = patch\n",
    "# テクスチャ画像を保存する\n",
    "cv2.imwrite('patch_30x30.png', background_image2)\n",
    "# テクスチャ画像を表示\n",
    "plt.figure(figsize=(4.217,4.217))\n",
    "plt.imshow(cv2.cvtColor(background_image2, cv2.COLOR_BGR2RGB))"
   ]
  }
 ],
 "metadata": {
  "kernelspec": {
   "display_name": "Python 3 (ipykernel)",
   "language": "python",
   "name": "python3"
  },
  "language_info": {
   "codemirror_mode": {
    "name": "ipython",
    "version": 3
   },
   "file_extension": ".py",
   "mimetype": "text/x-python",
   "name": "python",
   "nbconvert_exporter": "python",
   "pygments_lexer": "ipython3",
   "version": "3.7.12"
  },
  "toc": {
   "base_numbering": 1,
   "nav_menu": {},
   "number_sections": false,
   "sideBar": true,
   "skip_h1_title": false,
   "title_cell": "Table of Contents",
   "title_sidebar": "Contents",
   "toc_cell": false,
   "toc_position": {
    "height": "calc(100% - 180px)",
    "left": "10px",
    "top": "150px",
    "width": "165px"
   },
   "toc_section_display": true,
   "toc_window_display": true
  }
 },
 "nbformat": 4,
 "nbformat_minor": 5
}
